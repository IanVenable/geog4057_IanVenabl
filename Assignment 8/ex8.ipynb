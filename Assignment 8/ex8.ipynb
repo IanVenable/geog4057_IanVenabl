{
 "cells": [
  {
   "cell_type": "code",
   "execution_count": 4,
   "metadata": {},
   "outputs": [
    {
     "name": "stdout",
     "output_type": "stream",
     "text": [
      "C:\\Users\\ianve\\Downloads\\ex8\\Austin_Data.gdb\n"
     ]
    }
   ],
   "source": [
    "import arcpy\n",
    "import os\n",
    "pathname = r\"C:\\Users\\ianve\\Downloads\\ex8\\Austin.aprx\"\n",
    "aprx = arcpy.mp.ArcGISProject(pathname)\n",
    "print(aprx.defaultGeodatabase)"
   ]
  },
  {
   "cell_type": "code",
   "execution_count": 8,
   "metadata": {},
   "outputs": [
    {
     "name": "stdout",
     "output_type": "stream",
     "text": [
      "Copy saved to: C:\\Users\\ianve\\Downloads\\ex8\\Austin_Copy.aprx\n"
     ]
    }
   ],
   "source": [
    "import arcpy\n",
    "import os\n",
    "\n",
    "original_path = r\"C:\\Users\\ianve\\Downloads\\ex8\\Austin.aprx\"\n",
    "copy_path = os.path.join(r\"C:\\Users\\ianve\\Downloads\\ex8\", \"Austin_Copy.aprx\")\n",
    "\n",
    "aprx = arcpy.mp.ArcGISProject(original_path)\n",
    "\n",
    "aprx.saveACopy(copy_path)\n",
    "print(f\"Copy saved to: {copy_path}\")"
   ]
  },
  {
   "cell_type": "markdown",
   "metadata": {},
   "source": [
    "The file sizes got smaller, because the saveACopy function creates a new, compressed copy of the original file. The difference is not enormous but it is significant. The SaveACopy function gets rid of the extra links and edits in the .aprx and optimizes the storage in order to compress without losing data quality."
   ]
  },
  {
   "cell_type": "code",
   "execution_count": 2,
   "metadata": {},
   "outputs": [
    {
     "name": "stdout",
     "output_type": "stream",
     "text": [
      "Downtown\n",
      "Foot_US\n",
      "Region\n",
      "Foot_US\n"
     ]
    }
   ],
   "source": [
    "aprx = arcpy.mp.ArcGISProject('CURRENT')\n",
    "maps = aprx.listMaps()\n",
    "for m in maps:\n",
    "    print(m.name)\n",
    "    print(m.mapUnits)\n",
    "del aprx"
   ]
  },
  {
   "cell_type": "markdown",
   "metadata": {},
   "source": [
    "the del function removes the references to the project file and Python doesnt have to keep track of them anymore. It does not delete the project file."
   ]
  },
  {
   "cell_type": "code",
   "execution_count": 4,
   "metadata": {},
   "outputs": [
    {
     "ename": "IndexError",
     "evalue": "list index out of range",
     "output_type": "error",
     "traceback": [
      "\u001b[0;31m---------------------------------------------------------------------------\u001b[0m\n\u001b[0;31mIndexError\u001b[0m                                Traceback (most recent call last)",
      "In  \u001b[0;34m[4]\u001b[0m:\nLine \u001b[0;34m2\u001b[0m:     m = aprx.listMaps(\u001b[33m\"\u001b[39;49;00m\u001b[33mRegion\u001b[39;49;00m\u001b[33m\"\u001b[39;49;00m)[\u001b[34m0\u001b[39;49;00m]\n",
      "\u001b[0;31mIndexError\u001b[0m: list index out of range\n\u001b[0;31m---------------------------------------------------------------------------\u001b[0m"
     ]
    }
   ],
   "source": [
    "aprx = arcpy.mp.ArcGISProject('CURRENT')\n",
    "m = aprx.listMaps(\"Region\")[0]\n",
    "m.name = \"County\"\n",
    "del aprx"
   ]
  },
  {
   "cell_type": "markdown",
   "metadata": {},
   "source": [
    "*ignore the error above, I accidentally ran the code twice so the second time it ran it was searching for an item whose name had already been changed*"
   ]
  },
  {
   "cell_type": "code",
   "execution_count": 5,
   "metadata": {},
   "outputs": [
    {
     "name": "stdout",
     "output_type": "stream",
     "text": [
      "Map: Downtown\n",
      "trees\n",
      "parks\n",
      "base\n",
      "Topographic\n",
      "Map: County\n",
      "facilities\n",
      "hospitals\n",
      "parks\n",
      "Topographic\n"
     ]
    }
   ],
   "source": [
    "aprx = arcpy.mp.ArcGISProject('CURRENT')\n",
    "maps = aprx.listMaps()\n",
    "for m in maps:\n",
    "    print(\"Map: \" + m.name)\n",
    "    lyrs = m.listLayers()\n",
    "    for lyr in lyrs:\n",
    "        print(lyr.name)\n",
    "del aprx"
   ]
  },
  {
   "cell_type": "code",
   "execution_count": 6,
   "metadata": {},
   "outputs": [
    {
     "name": "stdout",
     "output_type": "stream",
     "text": [
      "trees is a feature layer\n",
      "parks is a feature layer\n",
      "base is a feature layer\n",
      "Topographic is a basemap layer\n"
     ]
    }
   ],
   "source": [
    "aprx = arcpy.mp.ArcGISProject('CURRENT')\n",
    "m = aprx.listMaps(\"Downtown\")[0]\n",
    "lyrs = m.listLayers()\n",
    "for lyr in lyrs:\n",
    "    if lyr.isBasemapLayer:\n",
    "        print(lyr.name + \" is a basemap layer\")\n",
    "    if lyr.isFeatureLayer:\n",
    "        print(lyr.name + \" is a feature layer\")\n",
    "del aprx\n"
   ]
  },
  {
   "cell_type": "code",
   "execution_count": 7,
   "metadata": {},
   "outputs": [],
   "source": [
    "aprx = arcpy.mp.ArcGISProject('CURRENT')\n",
    "m = aprx.listMaps(\"Downtown\")[0]\n",
    "m.addBasemap(\"Light Gray Canvas\")"
   ]
  },
  {
   "cell_type": "code",
   "execution_count": 8,
   "metadata": {},
   "outputs": [],
   "source": [
    "aprx = arcpy.mp.ArcGISProject(\"CURRENT\")\n",
    "m = aprx.listMaps(\"Downtown\")[0]\n",
    "lyr = m.listLayers(\"parks\")[0]\n",
    "sym = lyr.symbology\n",
    "green = {\"RGB\": [100, 175, 0, 100]}\n",
    "if lyr.isFeatureLayer and hasattr(sym, \"renderer\"):\n",
    "    sym.renderer.symbol.color = green\n",
    "    lyr.symbology = sym"
   ]
  },
  {
   "cell_type": "markdown",
   "metadata": {},
   "source": [
    "The green is a dictionary that defines an RGBA color\n",
    "The numbers in the list represent the color values of RGBA\n",
    "To get a brown color you would have to fill the values with (150, 75, 0, 100)"
   ]
  },
  {
   "cell_type": "code",
   "execution_count": 15,
   "metadata": {},
   "outputs": [],
   "source": [
    "aprx = arcpy.mp.ArcGISProject(\"CURRENT\")\n",
    "m = aprx.listMaps(\"Downtown\")[0]\n",
    "lyr = m.listLayers(\"parks\")[0]\n",
    "sym = lyr.symbology\n",
    "green = {\"RGB\": [150, 75, 0, 100]}\n",
    "if lyr.isFeatureLayer and hasattr(sym, \"renderer\"):\n",
    "    sym.renderer.symbol.color = green\n",
    "    lyr.symbology = sym"
   ]
  },
  {
   "cell_type": "code",
   "execution_count": 16,
   "metadata": {},
   "outputs": [
    {
     "ename": "AttributeError",
     "evalue": "'ArcGISProject' object has no attribute 'createLayout'",
     "output_type": "error",
     "traceback": [
      "\u001b[0;31m---------------------------------------------------------------------------\u001b[0m\n\u001b[0;31mAttributeError\u001b[0m                            Traceback (most recent call last)",
      "In  \u001b[0;34m[16]\u001b[0m:\nLine \u001b[0;34m3\u001b[0m:     lyt = aprx.createLayout( \u001b[34m11\u001b[39;49;00m,\u001b[34m8.5\u001b[39;49;00m, \u001b[33m'\u001b[39;49;00m\u001b[33mINCH\u001b[39;49;00m\u001b[33m'\u001b[39;49;00m, \u001b[33m'\u001b[39;49;00m\u001b[33mNew Layout with Rectangles\u001b[39;49;00m\u001b[33m'\u001b[39;49;00m)\n",
      "\u001b[0;31mAttributeError\u001b[0m: 'ArcGISProject' object has no attribute 'createLayout'\n\u001b[0;31m---------------------------------------------------------------------------\u001b[0m"
     ]
    }
   ],
   "source": [
    "m = aprx.listMaps(\"Downtown\")[0]\n",
    "\n",
    "lyt = aprx.createLayout( 11,8.5, 'INCH', 'New Layout with Rectangles')\n",
    "\n",
    "def MakeRec_LL(llx, lly, w, h):\n",
    "    xyRecList = [[llx, lly], [llx, lly+h], [llx+w,lly+h], [llx+w,lly], [llx,lly]]\n",
    "    array = arcpy.Array([arcpy.Point(*coords) for coords in xyRecList])\n",
    "    rec = arcpy.Polygon(array)\n",
    "    return rec\n",
    "\n",
    "mf = lyt.createMapFrame(MakeRec_LL(0.5,0.5,10,7.5), m, \"New Map Frame\")"
   ]
  },
  {
   "cell_type": "markdown",
   "metadata": {},
   "source": [
    "*apparently ARCGISPro on my computer does not have the ability to automate layouts, so I had to create the layout manually but I still was able to answer the questions about the layout*\n",
    "\n",
    "the layout will be 11 inches wide and 8.5 inches tall\n",
    "the frame will be 10 inches wide and 7.5 inches tall\n",
    "the advantages of creating layouts through python is that you can automate and make multiple layouts at once while manually it must be done one at a time."
   ]
  },
  {
   "cell_type": "code",
   "execution_count": 17,
   "metadata": {},
   "outputs": [
    {
     "ename": "AttributeError",
     "evalue": "'ArcGISProject' object has no attribute 'listStyleItems'",
     "output_type": "error",
     "traceback": [
      "\u001b[0;31m---------------------------------------------------------------------------\u001b[0m\n\u001b[0;31mAttributeError\u001b[0m                            Traceback (most recent call last)",
      "In  \u001b[0;34m[17]\u001b[0m:\nLine \u001b[0;34m2\u001b[0m:     naStyle = aprx.listStyleItems(\u001b[33m'\u001b[39;49;00m\u001b[33mArcGIS 2D\u001b[39;49;00m\u001b[33m'\u001b[39;49;00m, \u001b[33m'\u001b[39;49;00m\u001b[33mNorth_Arrow\u001b[39;49;00m\u001b[33m'\u001b[39;49;00m, \u001b[33m'\u001b[39;49;00m\u001b[33mCompass North 1\u001b[39;49;00m\u001b[33m'\u001b[39;49;00m)[\u001b[34m0\u001b[39;49;00m]\n",
      "\u001b[0;31mAttributeError\u001b[0m: 'ArcGISProject' object has no attribute 'listStyleItems'\n\u001b[0;31m---------------------------------------------------------------------------\u001b[0m"
     ]
    }
   ],
   "source": [
    "#Create a north arrow\n",
    "naStyle = aprx.listStyleItems('ArcGIS 2D', 'North_Arrow', 'Compass North 1')[0]\n",
    "na = lyt.createMapSurroundElement(arcpy.Point(9.5,7.5), 'North_Arrow', mf,\n",
    "                                      naStyle, \"Compass North Arrow\")\n",
    "na.elementWidth = 0.5  \n",
    "\n",
    "#Create a scale bar\n",
    "sbName = 'Double Alternating Scale Bar 1 Metric'\n",
    "sbStyle = aprx.listStyleItems('ArcGIS 2D', 'Scale_bar', sbName)[0]\n",
    "sbEnv = MakeRec_LL(5.5, 0.1, 4, 0.5)\n",
    "sb = lyt.createMapSurroundElement(sbEnv, 'Scale_bar', mf, sbStyle, 'New Scale Bar')"
   ]
  },
  {
   "cell_type": "code",
   "execution_count": 18,
   "metadata": {},
   "outputs": [
    {
     "ename": "AttributeError",
     "evalue": "'ArcGISProject' object has no attribute 'listStyleItems'",
     "output_type": "error",
     "traceback": [
      "\u001b[0;31m---------------------------------------------------------------------------\u001b[0m\n\u001b[0;31mAttributeError\u001b[0m                            Traceback (most recent call last)",
      "In  \u001b[0;34m[18]\u001b[0m:\nLine \u001b[0;34m1\u001b[0m:     legSi = aprx.listStyleItems(\u001b[33m'\u001b[39;49;00m\u001b[33mArcGIS 2D\u001b[39;49;00m\u001b[33m'\u001b[39;49;00m, \u001b[33m'\u001b[39;49;00m\u001b[33mLEGEND\u001b[39;49;00m\u001b[33m'\u001b[39;49;00m, \u001b[33m'\u001b[39;49;00m\u001b[33mLegend 3\u001b[39;49;00m\u001b[33m'\u001b[39;49;00m )[\u001b[34m0\u001b[39;49;00m]\n",
      "\u001b[0;31mAttributeError\u001b[0m: 'ArcGISProject' object has no attribute 'listStyleItems'\n\u001b[0;31m---------------------------------------------------------------------------\u001b[0m"
     ]
    }
   ],
   "source": [
    "legSi = aprx.listStyleItems('ArcGIS 2D', 'LEGEND', 'Legend 3' )[0]\n",
    "leg = lyt.createMapSurroundElement(arcpy.Point(1,7), 'LEGEND', mf, legSi, 'New Legend Element')\n",
    "leg.elementWidth = 3\n",
    "leg.elementHeight = 3\n",
    "leg.fittingStrategy = 'AdjustFontSize'\n",
    "leg.columnCount = 1\n",
    "leg.title = 'Downtown'"
   ]
  },
  {
   "cell_type": "markdown",
   "metadata": {},
   "source": [
    "*None of the code that automatically creates layout elements works, I am sure this is some sort of problem on my end*"
   ]
  },
  {
   "cell_type": "code",
   "execution_count": 22,
   "metadata": {},
   "outputs": [
    {
     "ename": "NameError",
     "evalue": "name 'lyt' is not defined",
     "output_type": "error",
     "traceback": [
      "\u001b[0;31m---------------------------------------------------------------------------\u001b[0m\n\u001b[0;31mNameError\u001b[0m                                 Traceback (most recent call last)",
      "In  \u001b[0;34m[22]\u001b[0m:\nLine \u001b[0;34m1\u001b[0m:     lyt.exportToPDF(os.path.join(pathname, \u001b[33m'\u001b[39;49;00m\u001b[33mdowntown.pdf\u001b[39;49;00m\u001b[33m'\u001b[39;49;00m))\n",
      "\u001b[0;31mNameError\u001b[0m: name 'lyt' is not defined\n\u001b[0;31m---------------------------------------------------------------------------\u001b[0m"
     ]
    }
   ],
   "source": [
    "lyt.exportToPDF(os.path.join(pathname, 'downtown.pdf'))"
   ]
  },
  {
   "cell_type": "markdown",
   "metadata": {},
   "source": [
    "*the lyt element seems to have some sort of issue, even the export code doesn't work even though it should*"
   ]
  }
 ],
 "metadata": {
  "kernelspec": {
   "display_name": "ArcGISPro",
   "language": "Python",
   "name": "python3"
  },
  "language_info": {
   "file_extension": ".py",
   "name": "python",
   "version": "3"
  }
 },
 "nbformat": 4,
 "nbformat_minor": 2
}
